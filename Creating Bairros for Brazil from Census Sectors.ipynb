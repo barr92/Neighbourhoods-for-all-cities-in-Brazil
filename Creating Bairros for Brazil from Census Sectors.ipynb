{
 "cells": [
  {
   "cell_type": "code",
   "execution_count": 1,
   "id": "f4defd3f",
   "metadata": {},
   "outputs": [],
   "source": [
    "import geopandas as gpd\n",
    "import pandas as pd\n",
    "from shapely.ops import unary_union\n",
    "import matplotlib.pyplot as plt\n",
    "import uuid \n",
    "pd.set_option('display.max_columns',None)\n",
    "\n",
    "# Step 1: Load the data\n",
    "gdf = gpd.read_file(r\"C:\\Users\\adam.PROPDO\\Downloads\\SC_Malha_Preliminar_2022 (2)\\SC_Malha_Preliminar_2022.shp\")\n",
    "gdf = gdf.to_crs('EPSG:4326')\n",
    "gdf.columns=gdf.columns.str.lower()\n",
    "gdf=gdf[['cd_setor','area_km2','nm_mun','v0001','geometry']]\n",
    "gdf=gdf[gdf['nm_mun']=='São José']"
   ]
  },
  {
   "cell_type": "code",
   "execution_count": 2,
   "id": "162b65c0",
   "metadata": {},
   "outputs": [
    {
     "data": {
      "text/html": [
       "<div>\n",
       "<style scoped>\n",
       "    .dataframe tbody tr th:only-of-type {\n",
       "        vertical-align: middle;\n",
       "    }\n",
       "\n",
       "    .dataframe tbody tr th {\n",
       "        vertical-align: top;\n",
       "    }\n",
       "\n",
       "    .dataframe thead th {\n",
       "        text-align: right;\n",
       "    }\n",
       "</style>\n",
       "<table border=\"1\" class=\"dataframe\">\n",
       "  <thead>\n",
       "    <tr style=\"text-align: right;\">\n",
       "      <th></th>\n",
       "      <th>cd_setor</th>\n",
       "      <th>area_km2</th>\n",
       "      <th>nm_mun</th>\n",
       "      <th>v0001</th>\n",
       "      <th>geometry</th>\n",
       "    </tr>\n",
       "  </thead>\n",
       "  <tbody>\n",
       "    <tr>\n",
       "      <th>13254</th>\n",
       "      <td>421660205000001P</td>\n",
       "      <td>0.208012</td>\n",
       "      <td>São José</td>\n",
       "      <td>435</td>\n",
       "      <td>POLYGON ((-48.61279 -27.58832, -48.61289 -27.5...</td>\n",
       "    </tr>\n",
       "    <tr>\n",
       "      <th>13255</th>\n",
       "      <td>421660205000002P</td>\n",
       "      <td>0.013936</td>\n",
       "      <td>São José</td>\n",
       "      <td>554</td>\n",
       "      <td>POLYGON ((-48.61599 -27.59334, -48.61663 -27.5...</td>\n",
       "    </tr>\n",
       "    <tr>\n",
       "      <th>13256</th>\n",
       "      <td>421660205000003P</td>\n",
       "      <td>0.020509</td>\n",
       "      <td>São José</td>\n",
       "      <td>580</td>\n",
       "      <td>POLYGON ((-48.61289 -27.58869, -48.61226 -27.5...</td>\n",
       "    </tr>\n",
       "    <tr>\n",
       "      <th>13257</th>\n",
       "      <td>421660205000005P</td>\n",
       "      <td>0.052682</td>\n",
       "      <td>São José</td>\n",
       "      <td>623</td>\n",
       "      <td>POLYGON ((-48.61042 -27.59112, -48.61084 -27.5...</td>\n",
       "    </tr>\n",
       "    <tr>\n",
       "      <th>13258</th>\n",
       "      <td>421660205000007P</td>\n",
       "      <td>0.010878</td>\n",
       "      <td>São José</td>\n",
       "      <td>542</td>\n",
       "      <td>POLYGON ((-48.61212 -27.59312, -48.61192 -27.5...</td>\n",
       "    </tr>\n",
       "  </tbody>\n",
       "</table>\n",
       "</div>"
      ],
      "text/plain": [
       "               cd_setor  area_km2    nm_mun  v0001  \\\n",
       "13254  421660205000001P  0.208012  São José    435   \n",
       "13255  421660205000002P  0.013936  São José    554   \n",
       "13256  421660205000003P  0.020509  São José    580   \n",
       "13257  421660205000005P  0.052682  São José    623   \n",
       "13258  421660205000007P  0.010878  São José    542   \n",
       "\n",
       "                                                geometry  \n",
       "13254  POLYGON ((-48.61279 -27.58832, -48.61289 -27.5...  \n",
       "13255  POLYGON ((-48.61599 -27.59334, -48.61663 -27.5...  \n",
       "13256  POLYGON ((-48.61289 -27.58869, -48.61226 -27.5...  \n",
       "13257  POLYGON ((-48.61042 -27.59112, -48.61084 -27.5...  \n",
       "13258  POLYGON ((-48.61212 -27.59312, -48.61192 -27.5...  "
      ]
     },
     "execution_count": 2,
     "metadata": {},
     "output_type": "execute_result"
    }
   ],
   "source": [
    "gdf.head()"
   ]
  },
  {
   "cell_type": "code",
   "execution_count": 3,
   "id": "80adca8e",
   "metadata": {},
   "outputs": [
    {
     "data": {
      "text/plain": [
       "375"
      ]
     },
     "execution_count": 3,
     "metadata": {},
     "output_type": "execute_result"
    }
   ],
   "source": [
    "len(gdf)"
   ]
  },
  {
   "cell_type": "code",
   "execution_count": 4,
   "id": "6f23bb1a",
   "metadata": {},
   "outputs": [
    {
     "data": {
      "text/plain": [
       "<Axes: >"
      ]
     },
     "execution_count": 4,
     "metadata": {},
     "output_type": "execute_result"
    },
    {
     "data": {
      "image/png": "[encoded data removed]",
      "text/plain": [
       "<Figure size 432x288 with 1 Axes>"
      ]
     },
     "metadata": {
      "needs_background": "light"
     },
     "output_type": "display_data"
    }
   ],
   "source": [
    "gdf['v0001'].plot(kind='box',showfliers=False)"
   ]
  },
  {
   "cell_type": "code",
   "execution_count": 5,
   "id": "cd3bc0b7",
   "metadata": {},
   "outputs": [
    {
     "name": "stdout",
     "output_type": "stream",
     "text": [
      "Index(['cd_setor_left', 'area_km2_left', 'nm_mun_left', 'v0001_left',\n",
      "       'geometry', 'index_right', 'cd_setor_right', 'area_km2_right',\n",
      "       'nm_mun_right', 'v0001_right'],\n",
      "      dtype='object')\n"
     ]
    }
   ],
   "source": [
    "# Step 2: Filter out small polygons\n",
    "# Identify polygons with area below \n",
    "small_polygons = gdf[gdf['v0001'] < 800]\n",
    "\n",
    "# Step 3: Spatial join to find neighboring polygons\n",
    "# Use spatial join to find adjacent polygons for each small polygon\n",
    "neighbors = gpd.sjoin(small_polygons, gdf, how=\"left\", predicate=\"touches\")\n",
    "\n",
    "# Check column names to confirm indices\n",
    "print(neighbors.columns)"
   ]
  },
  {
   "cell_type": "code",
   "execution_count": 6,
   "id": "887f2090",
   "metadata": {},
   "outputs": [
    {
     "data": {
      "text/html": [
       "<div>\n",
       "<style scoped>\n",
       "    .dataframe tbody tr th:only-of-type {\n",
       "        vertical-align: middle;\n",
       "    }\n",
       "\n",
       "    .dataframe tbody tr th {\n",
       "        vertical-align: top;\n",
       "    }\n",
       "\n",
       "    .dataframe thead th {\n",
       "        text-align: right;\n",
       "    }\n",
       "</style>\n",
       "<table border=\"1\" class=\"dataframe\">\n",
       "  <thead>\n",
       "    <tr style=\"text-align: right;\">\n",
       "      <th></th>\n",
       "      <th>cd_setor_left</th>\n",
       "      <th>area_km2_left</th>\n",
       "      <th>nm_mun_left</th>\n",
       "      <th>v0001_left</th>\n",
       "      <th>geometry</th>\n",
       "      <th>index_right</th>\n",
       "      <th>cd_setor_right</th>\n",
       "      <th>area_km2_right</th>\n",
       "      <th>nm_mun_right</th>\n",
       "      <th>v0001_right</th>\n",
       "    </tr>\n",
       "  </thead>\n",
       "  <tbody>\n",
       "    <tr>\n",
       "      <th>13254</th>\n",
       "      <td>421660205000001P</td>\n",
       "      <td>0.208012</td>\n",
       "      <td>São José</td>\n",
       "      <td>435</td>\n",
       "      <td>POLYGON ((-48.61279 -27.58832, -48.61289 -27.5...</td>\n",
       "      <td>13530</td>\n",
       "      <td>421660213000057P</td>\n",
       "      <td>0.273710</td>\n",
       "      <td>São José</td>\n",
       "      <td>826</td>\n",
       "    </tr>\n",
       "    <tr>\n",
       "      <th>13254</th>\n",
       "      <td>421660205000001P</td>\n",
       "      <td>0.208012</td>\n",
       "      <td>São José</td>\n",
       "      <td>435</td>\n",
       "      <td>POLYGON ((-48.61279 -27.58832, -48.61289 -27.5...</td>\n",
       "      <td>13295</td>\n",
       "      <td>421660205000049P</td>\n",
       "      <td>0.314532</td>\n",
       "      <td>São José</td>\n",
       "      <td>692</td>\n",
       "    </tr>\n",
       "    <tr>\n",
       "      <th>13254</th>\n",
       "      <td>421660205000001P</td>\n",
       "      <td>0.208012</td>\n",
       "      <td>São José</td>\n",
       "      <td>435</td>\n",
       "      <td>POLYGON ((-48.61279 -27.58832, -48.61289 -27.5...</td>\n",
       "      <td>13265</td>\n",
       "      <td>421660205000014P</td>\n",
       "      <td>0.049892</td>\n",
       "      <td>São José</td>\n",
       "      <td>363</td>\n",
       "    </tr>\n",
       "    <tr>\n",
       "      <th>13254</th>\n",
       "      <td>421660205000001P</td>\n",
       "      <td>0.208012</td>\n",
       "      <td>São José</td>\n",
       "      <td>435</td>\n",
       "      <td>POLYGON ((-48.61279 -27.58832, -48.61289 -27.5...</td>\n",
       "      <td>13261</td>\n",
       "      <td>421660205000010P</td>\n",
       "      <td>0.026319</td>\n",
       "      <td>São José</td>\n",
       "      <td>529</td>\n",
       "    </tr>\n",
       "    <tr>\n",
       "      <th>13254</th>\n",
       "      <td>421660205000001P</td>\n",
       "      <td>0.208012</td>\n",
       "      <td>São José</td>\n",
       "      <td>435</td>\n",
       "      <td>POLYGON ((-48.61279 -27.58832, -48.61289 -27.5...</td>\n",
       "      <td>13262</td>\n",
       "      <td>421660205000011P</td>\n",
       "      <td>0.013563</td>\n",
       "      <td>São José</td>\n",
       "      <td>539</td>\n",
       "    </tr>\n",
       "  </tbody>\n",
       "</table>\n",
       "</div>"
      ],
      "text/plain": [
       "          cd_setor_left  area_km2_left nm_mun_left  v0001_left  \\\n",
       "13254  421660205000001P       0.208012    São José         435   \n",
       "13254  421660205000001P       0.208012    São José         435   \n",
       "13254  421660205000001P       0.208012    São José         435   \n",
       "13254  421660205000001P       0.208012    São José         435   \n",
       "13254  421660205000001P       0.208012    São José         435   \n",
       "\n",
       "                                                geometry  index_right  \\\n",
       "13254  POLYGON ((-48.61279 -27.58832, -48.61289 -27.5...        13530   \n",
       "13254  POLYGON ((-48.61279 -27.58832, -48.61289 -27.5...        13295   \n",
       "13254  POLYGON ((-48.61279 -27.58832, -48.61289 -27.5...        13265   \n",
       "13254  POLYGON ((-48.61279 -27.58832, -48.61289 -27.5...        13261   \n",
       "13254  POLYGON ((-48.61279 -27.58832, -48.61289 -27.5...        13262   \n",
       "\n",
       "         cd_setor_right  area_km2_right nm_mun_right  v0001_right  \n",
       "13254  421660213000057P        0.273710     São José          826  \n",
       "13254  421660205000049P        0.314532     São José          692  \n",
       "13254  421660205000014P        0.049892     São José          363  \n",
       "13254  421660205000010P        0.026319     São José          529  \n",
       "13254  421660205000011P        0.013563     São José          539  "
      ]
     },
     "execution_count": 6,
     "metadata": {},
     "output_type": "execute_result"
    }
   ],
   "source": [
    "neighbors.head()"
   ]
  },
  {
   "cell_type": "code",
   "execution_count": 7,
   "id": "e72f41c4",
   "metadata": {},
   "outputs": [],
   "source": [
    "import geopandas as gpd\n",
    "from shapely.ops import unary_union\n",
    "import pandas as pd\n",
    "\n",
    "# Step 4: Group and merge polygons until neighborhoods reach a population threshold\n",
    "def merge_polygons_by_population(gdf, population_threshold=10000):  # Threshold in population\n",
    "    # Initialize merged GeoDataFrame with same CRS as gdf and add a Bairro column\n",
    "    merged_gdf = gpd.GeoDataFrame(columns=gdf.columns.to_list() + ['bairro'], crs=gdf.crs)\n",
    "    processed_ids = set()  # Track processed polygon identifiers\n",
    "    bairro_id = 1  # Start numbering neighborhoods from 1\n",
    "\n",
    "    for idx, row in gdf.iterrows():\n",
    "        if row['v0001'] >= population_threshold or idx in processed_ids:\n",
    "            continue  # Skip if already processed or already meets threshold\n",
    "\n",
    "        # Collect adjacent polygons to merge\n",
    "        neighbors_to_merge = [row]  # Start with the current polygon\n",
    "        total_population = row['v0001']\n",
    "        \n",
    "        # Keep merging neighbors until the population threshold is met\n",
    "        while total_population < population_threshold:\n",
    "            # Find neighbors of all current polygons in the merge group\n",
    "            current_neighbors = neighbors[\n",
    "                neighbors['cd_setor_left'].isin([r['cd_setor'] for r in neighbors_to_merge]) & \n",
    "                ~neighbors['index_right'].isin(processed_ids)\n",
    "            ]\n",
    "            if current_neighbors.empty:\n",
    "                break  # No more neighbors to merge\n",
    "\n",
    "            # Retrieve the identifier of the next neighbor\n",
    "            next_neighbor_id = current_neighbors['index_right'].iloc[0]\n",
    "            next_neighbor = gdf.loc[next_neighbor_id]  # Retrieve by actual identifier\n",
    "\n",
    "            neighbors_to_merge.append(next_neighbor)\n",
    "            total_population += next_neighbor['v0001']\n",
    "            processed_ids.add(next_neighbor_id)\n",
    "\n",
    "        # Merge all collected polygons\n",
    "        merged_geometry = unary_union([poly.geometry for poly in neighbors_to_merge])\n",
    "        merged_row = row.copy()\n",
    "        merged_row['v0001'] = total_population\n",
    "        merged_row.geometry = merged_geometry\n",
    "       \n",
    "        # Generate a UUID and assign it to the bairro column\n",
    "        merged_row['bairro'] = str(uuid.uuid4())\n",
    "\n",
    "        # Convert merged row to GeoDataFrame and set CRS\n",
    "        merged_row_gdf = gpd.GeoDataFrame([merged_row], crs=gdf.crs)\n",
    "        # Append to the result GeoDataFrame using pd.concat()\n",
    "        merged_gdf = pd.concat([merged_gdf, merged_row_gdf], ignore_index=True)\n",
    "\n",
    "        # Increment the neighborhood identifier for the next bairro\n",
    "        bairro_id += 1\n",
    "\n",
    "    # Append polygons that already meet the population threshold\n",
    "    large_polygons = gdf[gdf['v0001'] >= population_threshold].copy()\n",
    "    large_polygons['bairro'] = [str(uuid.uuid4()) for _ in range(len(large_polygons))]\n",
    "    merged_gdf = pd.concat([merged_gdf, large_polygons], ignore_index=True)\n",
    "\n",
    "    return merged_gdf\n"
   ]
  },
  {
   "cell_type": "code",
   "execution_count": 8,
   "id": "4d330dbf",
   "metadata": {},
   "outputs": [
    {
     "data": {
      "text/html": [
       "<div>\n",
       "<style scoped>\n",
       "    .dataframe tbody tr th:only-of-type {\n",
       "        vertical-align: middle;\n",
       "    }\n",
       "\n",
       "    .dataframe tbody tr th {\n",
       "        vertical-align: top;\n",
       "    }\n",
       "\n",
       "    .dataframe thead th {\n",
       "        text-align: right;\n",
       "    }\n",
       "</style>\n",
       "<table border=\"1\" class=\"dataframe\">\n",
       "  <thead>\n",
       "    <tr style=\"text-align: right;\">\n",
       "      <th></th>\n",
       "      <th>area_km2</th>\n",
       "      <th>nm_mun</th>\n",
       "      <th>v0001</th>\n",
       "      <th>geometry</th>\n",
       "      <th>bairro</th>\n",
       "    </tr>\n",
       "  </thead>\n",
       "  <tbody>\n",
       "    <tr>\n",
       "      <th>0</th>\n",
       "      <td>0.208012</td>\n",
       "      <td>São José</td>\n",
       "      <td>10037</td>\n",
       "      <td>POLYGON ((-48.61758 -27.59429, -48.61780 -27.5...</td>\n",
       "      <td>3fac64e1-a387-47f8-9931-d37cc8ef2167</td>\n",
       "    </tr>\n",
       "    <tr>\n",
       "      <th>1</th>\n",
       "      <td>0.015501</td>\n",
       "      <td>São José</td>\n",
       "      <td>10636</td>\n",
       "      <td>POLYGON ((-48.61956 -27.60267, -48.62009 -27.6...</td>\n",
       "      <td>776b220b-4ed5-4282-a372-65a1c82a733a</td>\n",
       "    </tr>\n",
       "    <tr>\n",
       "      <th>2</th>\n",
       "      <td>0.184309</td>\n",
       "      <td>São José</td>\n",
       "      <td>10225</td>\n",
       "      <td>POLYGON ((-48.60182 -27.65902, -48.60198 -27.6...</td>\n",
       "      <td>eb5f06fa-79e0-4a30-8987-5173d9ae2f78</td>\n",
       "    </tr>\n",
       "    <tr>\n",
       "      <th>3</th>\n",
       "      <td>0.010013</td>\n",
       "      <td>São José</td>\n",
       "      <td>1625</td>\n",
       "      <td>POLYGON ((-48.61113 -27.59842, -48.61100 -27.5...</td>\n",
       "      <td>a820ab21-10a2-4e7a-b53b-1b22d9d3c48a</td>\n",
       "    </tr>\n",
       "    <tr>\n",
       "      <th>4</th>\n",
       "      <td>0.033723</td>\n",
       "      <td>São José</td>\n",
       "      <td>2751</td>\n",
       "      <td>POLYGON ((-48.60803 -27.59195, -48.60823 -27.5...</td>\n",
       "      <td>e028cc50-3100-46d3-a1da-694782ad4952</td>\n",
       "    </tr>\n",
       "  </tbody>\n",
       "</table>\n",
       "</div>"
      ],
      "text/plain": [
       "   area_km2    nm_mun  v0001  \\\n",
       "0  0.208012  São José  10037   \n",
       "1  0.015501  São José  10636   \n",
       "2  0.184309  São José  10225   \n",
       "3  0.010013  São José   1625   \n",
       "4  0.033723  São José   2751   \n",
       "\n",
       "                                            geometry  \\\n",
       "0  POLYGON ((-48.61758 -27.59429, -48.61780 -27.5...   \n",
       "1  POLYGON ((-48.61956 -27.60267, -48.62009 -27.6...   \n",
       "2  POLYGON ((-48.60182 -27.65902, -48.60198 -27.6...   \n",
       "3  POLYGON ((-48.61113 -27.59842, -48.61100 -27.5...   \n",
       "4  POLYGON ((-48.60803 -27.59195, -48.60823 -27.5...   \n",
       "\n",
       "                                 bairro  \n",
       "0  3fac64e1-a387-47f8-9931-d37cc8ef2167  \n",
       "1  776b220b-4ed5-4282-a372-65a1c82a733a  \n",
       "2  eb5f06fa-79e0-4a30-8987-5173d9ae2f78  \n",
       "3  a820ab21-10a2-4e7a-b53b-1b22d9d3c48a  \n",
       "4  e028cc50-3100-46d3-a1da-694782ad4952  "
      ]
     },
     "execution_count": 8,
     "metadata": {},
     "output_type": "execute_result"
    }
   ],
   "source": [
    "# Step 5: Apply the merging function and view results\n",
    "neighborhoods_gdf = merge_polygons_by_population(gdf, population_threshold=10000)\n",
    "neighborhoods_gdf = neighborhoods_gdf.to_crs('EPSG:4326')\n",
    "neighborhoods_gdf=neighborhoods_gdf.drop(columns=['cd_setor'])\n",
    "neighborhoods_gdf.head()"
   ]
  },
  {
   "cell_type": "code",
   "execution_count": 9,
   "id": "c75ca20f",
   "metadata": {},
   "outputs": [
    {
     "data": {
      "text/plain": [
       "86"
      ]
     },
     "execution_count": 9,
     "metadata": {},
     "output_type": "execute_result"
    }
   ],
   "source": [
    "len(neighborhoods_gdf)"
   ]
  },
  {
   "cell_type": "code",
   "execution_count": 10,
   "id": "3fe6e13c",
   "metadata": {},
   "outputs": [],
   "source": [
    "neighborhoods_gdf=neighborhoods_gdf.rename(columns={'bairro':'bairro_id'})\n",
    "neighborhoods_gdf=neighborhoods_gdf[['bairro_id','area_km2','nm_mun','v0001','geometry']]"
   ]
  },
  {
   "cell_type": "code",
   "execution_count": 11,
   "id": "8ee32f12",
   "metadata": {},
   "outputs": [],
   "source": [
    "neighborhoods_gdf = neighborhoods_gdf.to_crs('EPSG:4326')"
   ]
  },
  {
   "cell_type": "code",
   "execution_count": 14,
   "id": "3b692ae6",
   "metadata": {},
   "outputs": [],
   "source": [
    "# Save or plot the result\n",
    "neighborhoods_gdf.to_file(r\"P:\\Data (adam)\\Agente Imovel Team Support\\New Data\\Neighbourhoods for failed cities\\Neighborhood New Files\\Sao Jose, Santa Caterina\\neighborhood Sao Jose.shp\")"
   ]
  },
  {
   "cell_type": "code",
   "execution_count": 23,
   "id": "23725599",
   "metadata": {},
   "outputs": [
    {
     "data": {
      "text/plain": [
       "<Figure size 1440x720 with 0 Axes>"
      ]
     },
     "metadata": {},
     "output_type": "display_data"
    },
    {
     "data": {
      "image/png": "[encoded data removed]",
      "text/plain": [
       "<Figure size 432x288 with 1 Axes>"
      ]
     },
     "metadata": {
      "needs_background": "light"
     },
     "output_type": "display_data"
    }
   ],
   "source": [
    "plt.figure(figsize=(20, 10)) \n",
    "neighborhoods_gdf.plot(column='bairro_id', cmap='tab20', edgecolor='black', legend=False)\n",
    "plt.title(\"Neighborhoods by Bairro ID\")\n",
    "plt.xlabel(\"Longitude\")\n",
    "plt.ylabel(\"Latitude\")\n",
    "plt.savefig(r\"P:\\Data (adam)\\Agente Imovel Team Support\\New Data\\Neighbourhoods for failed cities\\Neighborhood New Files\\Sao Jose, Santa Caterina\\neighborhoods_map.png\", dpi=300, bbox_inches='tight')\n",
    "plt.show()"
   ]
  },
  {
   "cell_type": "code",
   "execution_count": null,
   "id": "df719c97",
   "metadata": {},
   "outputs": [],
   "source": []
  }
 ],
 "metadata": {
  "kernelspec": {
   "display_name": "Python 3 (ipykernel)",
   "language": "python",
   "name": "python3"
  },
  "language_info": {
   "codemirror_mode": {
    "name": "ipython",
    "version": 3
   },
   "file_extension": ".py",
   "mimetype": "text/x-python",
   "name": "python",
   "nbconvert_exporter": "python",
   "pygments_lexer": "ipython3",
   "version": "3.8.12"
  }
 },
 "nbformat": 4,
 "nbformat_minor": 5
}
